{
 "cells": [
  {
   "cell_type": "markdown",
   "metadata": {},
   "source": [
    "# __Importing libraries__ "
   ]
  },
  {
   "cell_type": "code",
   "execution_count": 1,
   "metadata": {},
   "outputs": [],
   "source": [
    "# Import required libraries\n",
    "import numpy as np\n",
    "import pandas as pd\n",
    "from sklearn.feature_extraction.text import TfidfVectorizer    \n",
    "from nltk.tokenize import RegexpTokenizer\n",
    "from sklearn import preprocessing\n",
    "from scipy.sparse import hstack\n",
    "import pandas_profiling"
   ]
  },
  {
   "cell_type": "markdown",
   "metadata": {},
   "source": [
    "# __Data preprocessing__"
   ]
  },
  {
   "cell_type": "code",
   "execution_count": 3,
   "metadata": {},
   "outputs": [],
   "source": [
    "# Reading Data\n",
    "df = pd.read_csv(\"MoviesOnStreamingPlatforms.csv\")\n",
    "df = df.iloc[:,1:]"
   ]
  },
  {
   "cell_type": "code",
   "execution_count": 4,
   "metadata": {},
   "outputs": [
    {
     "data": {
      "text/html": [
       "<div>\n",
       "<style scoped>\n",
       "    .dataframe tbody tr th:only-of-type {\n",
       "        vertical-align: middle;\n",
       "    }\n",
       "\n",
       "    .dataframe tbody tr th {\n",
       "        vertical-align: top;\n",
       "    }\n",
       "\n",
       "    .dataframe thead th {\n",
       "        text-align: right;\n",
       "    }\n",
       "</style>\n",
       "<table border=\"1\" class=\"dataframe\">\n",
       "  <thead>\n",
       "    <tr style=\"text-align: right;\">\n",
       "      <th></th>\n",
       "      <th>miss_count</th>\n",
       "      <th>miss_%</th>\n",
       "    </tr>\n",
       "  </thead>\n",
       "  <tbody>\n",
       "    <tr>\n",
       "      <th>ID</th>\n",
       "      <td>0</td>\n",
       "      <td>0.000000</td>\n",
       "    </tr>\n",
       "    <tr>\n",
       "      <th>Title</th>\n",
       "      <td>0</td>\n",
       "      <td>0.000000</td>\n",
       "    </tr>\n",
       "    <tr>\n",
       "      <th>Year</th>\n",
       "      <td>0</td>\n",
       "      <td>0.000000</td>\n",
       "    </tr>\n",
       "    <tr>\n",
       "      <th>Age</th>\n",
       "      <td>9390</td>\n",
       "      <td>56.079790</td>\n",
       "    </tr>\n",
       "    <tr>\n",
       "      <th>IMDb</th>\n",
       "      <td>571</td>\n",
       "      <td>3.410177</td>\n",
       "    </tr>\n",
       "    <tr>\n",
       "      <th>Rotten Tomatoes</th>\n",
       "      <td>11586</td>\n",
       "      <td>69.194935</td>\n",
       "    </tr>\n",
       "    <tr>\n",
       "      <th>Netflix</th>\n",
       "      <td>0</td>\n",
       "      <td>0.000000</td>\n",
       "    </tr>\n",
       "    <tr>\n",
       "      <th>Hulu</th>\n",
       "      <td>0</td>\n",
       "      <td>0.000000</td>\n",
       "    </tr>\n",
       "    <tr>\n",
       "      <th>Prime Video</th>\n",
       "      <td>0</td>\n",
       "      <td>0.000000</td>\n",
       "    </tr>\n",
       "    <tr>\n",
       "      <th>Disney+</th>\n",
       "      <td>0</td>\n",
       "      <td>0.000000</td>\n",
       "    </tr>\n",
       "    <tr>\n",
       "      <th>Type</th>\n",
       "      <td>0</td>\n",
       "      <td>0.000000</td>\n",
       "    </tr>\n",
       "    <tr>\n",
       "      <th>Directors</th>\n",
       "      <td>726</td>\n",
       "      <td>4.335882</td>\n",
       "    </tr>\n",
       "    <tr>\n",
       "      <th>Genres</th>\n",
       "      <td>275</td>\n",
       "      <td>1.642379</td>\n",
       "    </tr>\n",
       "    <tr>\n",
       "      <th>Country</th>\n",
       "      <td>435</td>\n",
       "      <td>2.597946</td>\n",
       "    </tr>\n",
       "    <tr>\n",
       "      <th>Language</th>\n",
       "      <td>599</td>\n",
       "      <td>3.577401</td>\n",
       "    </tr>\n",
       "    <tr>\n",
       "      <th>Runtime</th>\n",
       "      <td>592</td>\n",
       "      <td>3.535595</td>\n",
       "    </tr>\n",
       "  </tbody>\n",
       "</table>\n",
       "</div>"
      ],
      "text/plain": [
       "                 miss_count     miss_%\n",
       "ID                        0   0.000000\n",
       "Title                     0   0.000000\n",
       "Year                      0   0.000000\n",
       "Age                    9390  56.079790\n",
       "IMDb                    571   3.410177\n",
       "Rotten Tomatoes       11586  69.194935\n",
       "Netflix                   0   0.000000\n",
       "Hulu                      0   0.000000\n",
       "Prime Video               0   0.000000\n",
       "Disney+                   0   0.000000\n",
       "Type                      0   0.000000\n",
       "Directors               726   4.335882\n",
       "Genres                  275   1.642379\n",
       "Country                 435   2.597946\n",
       "Language                599   3.577401\n",
       "Runtime                 592   3.535595"
      ]
     },
     "execution_count": 4,
     "metadata": {},
     "output_type": "execute_result"
    }
   ],
   "source": [
    "# Finding Missing values in all columns\n",
    "miss = pd.DataFrame(df.isnull().sum())\n",
    "miss = miss.rename(columns={0:\"miss_count\"})\n",
    "miss[\"miss_%\"] = (miss.miss_count/len(df.ID))*100\n",
    "miss"
   ]
  },
  {
   "cell_type": "code",
   "execution_count": 5,
   "metadata": {},
   "outputs": [],
   "source": [
    "#Dropping values with missing % more than 50%\n",
    "df.drop(['Rotten Tomatoes', 'Age'], axis = 1, inplace=True)\n",
    "\n",
    "# Dropping Na's from the following columns\n",
    "df.dropna(subset=['IMDb','Directors', 'Genres', 'Country', 'Language', 'Runtime'],inplace=True)\n",
    "df.reset_index(inplace=True,drop=True)\n",
    "\n",
    "# converting into object type\n",
    "df.ID = df.ID.astype(\"object\")\n",
    "df.Year = df.Year.astype(\"object\")"
   ]
  },
  {
   "cell_type": "markdown",
   "metadata": {},
   "source": [
    "# __Numerical-variables recommender__"
   ]
  },
  {
   "cell_type": "markdown",
   "metadata": {},
   "source": [
    "### Step-1: Select the numerical variable"
   ]
  },
  {
   "cell_type": "code",
   "execution_count": 6,
   "metadata": {},
   "outputs": [],
   "source": [
    "ndf = df.select_dtypes(include=['float64', \"int64\"])"
   ]
  },
  {
   "cell_type": "markdown",
   "metadata": {},
   "source": [
    "### Step-2: Scaling the numerical variable using a min-max scaler to reduce model complexity and training time"
   ]
  },
  {
   "cell_type": "code",
   "execution_count": 7,
   "metadata": {},
   "outputs": [
    {
     "data": {
      "text/html": [
       "<div>\n",
       "<style scoped>\n",
       "    .dataframe tbody tr th:only-of-type {\n",
       "        vertical-align: middle;\n",
       "    }\n",
       "\n",
       "    .dataframe tbody tr th {\n",
       "        vertical-align: top;\n",
       "    }\n",
       "\n",
       "    .dataframe thead th {\n",
       "        text-align: right;\n",
       "    }\n",
       "</style>\n",
       "<table border=\"1\" class=\"dataframe\">\n",
       "  <thead>\n",
       "    <tr style=\"text-align: right;\">\n",
       "      <th></th>\n",
       "      <th>IMDb</th>\n",
       "      <th>Netflix</th>\n",
       "      <th>Hulu</th>\n",
       "      <th>Prime Video</th>\n",
       "      <th>Disney+</th>\n",
       "      <th>Type</th>\n",
       "      <th>Runtime</th>\n",
       "    </tr>\n",
       "  </thead>\n",
       "  <tbody>\n",
       "    <tr>\n",
       "      <th>0</th>\n",
       "      <td>0.946237</td>\n",
       "      <td>1.0</td>\n",
       "      <td>0.0</td>\n",
       "      <td>0.0</td>\n",
       "      <td>0.0</td>\n",
       "      <td>0.0</td>\n",
       "      <td>0.449541</td>\n",
       "    </tr>\n",
       "    <tr>\n",
       "      <th>1</th>\n",
       "      <td>0.935484</td>\n",
       "      <td>1.0</td>\n",
       "      <td>0.0</td>\n",
       "      <td>0.0</td>\n",
       "      <td>0.0</td>\n",
       "      <td>0.0</td>\n",
       "      <td>0.412844</td>\n",
       "    </tr>\n",
       "    <tr>\n",
       "      <th>2</th>\n",
       "      <td>0.913978</td>\n",
       "      <td>1.0</td>\n",
       "      <td>0.0</td>\n",
       "      <td>0.0</td>\n",
       "      <td>0.0</td>\n",
       "      <td>0.0</td>\n",
       "      <td>0.452599</td>\n",
       "    </tr>\n",
       "    <tr>\n",
       "      <th>3</th>\n",
       "      <td>0.913978</td>\n",
       "      <td>1.0</td>\n",
       "      <td>0.0</td>\n",
       "      <td>0.0</td>\n",
       "      <td>0.0</td>\n",
       "      <td>0.0</td>\n",
       "      <td>0.351682</td>\n",
       "    </tr>\n",
       "    <tr>\n",
       "      <th>4</th>\n",
       "      <td>0.946237</td>\n",
       "      <td>1.0</td>\n",
       "      <td>0.0</td>\n",
       "      <td>1.0</td>\n",
       "      <td>0.0</td>\n",
       "      <td>0.0</td>\n",
       "      <td>0.489297</td>\n",
       "    </tr>\n",
       "  </tbody>\n",
       "</table>\n",
       "</div>"
      ],
      "text/plain": [
       "       IMDb  Netflix  Hulu  Prime Video  Disney+  Type   Runtime\n",
       "0  0.946237      1.0   0.0          0.0      0.0   0.0  0.449541\n",
       "1  0.935484      1.0   0.0          0.0      0.0   0.0  0.412844\n",
       "2  0.913978      1.0   0.0          0.0      0.0   0.0  0.452599\n",
       "3  0.913978      1.0   0.0          0.0      0.0   0.0  0.351682\n",
       "4  0.946237      1.0   0.0          1.0      0.0   0.0  0.489297"
      ]
     },
     "execution_count": 7,
     "metadata": {},
     "output_type": "execute_result"
    }
   ],
   "source": [
    "# importing minmax scaler\n",
    "from sklearn import preprocessing\n",
    "\n",
    "# Create MinMaxScaler Object\n",
    "scaler = preprocessing.MinMaxScaler(feature_range=(0, 1))\n",
    "\n",
    "# Create dataframe after transformation\n",
    "ndfmx = pd.DataFrame((scaler.fit_transform(ndf)))\n",
    "\n",
    "# Assign column names\n",
    "ndfmx.columns = ndf.columns\n",
    "\n",
    "# Show initial 5 records\n",
    "ndfmx.head()"
   ]
  },
  {
   "cell_type": "markdown",
   "metadata": {},
   "source": [
    "### Step-3: Compute similarity score using cosine similarity"
   ]
  },
  {
   "cell_type": "code",
   "execution_count": 8,
   "metadata": {},
   "outputs": [],
   "source": [
    "# Import cosine similarity\n",
    "from sklearn.metrics.pairwise import cosine_similarity\n",
    "\n",
    "# Compute the cosine similarity\n",
    "sig = cosine_similarity(ndfmx, ndfmx)\n",
    "\n",
    "# Reverse mapping of indices and movie titles\n",
    "indices = pd.Series(df.index, index=df['Title']).drop_duplicates()"
   ]
  },
  {
   "cell_type": "code",
   "execution_count": 9,
   "metadata": {},
   "outputs": [
    {
     "data": {
      "text/plain": [
       "Title\n",
       "Inception                         0\n",
       "The Matrix                        1\n",
       "Avengers: Infinity War            2\n",
       "Back to the Future                3\n",
       "The Good, the Bad and the Ugly    4\n",
       "dtype: int64"
      ]
     },
     "execution_count": 9,
     "metadata": {},
     "output_type": "execute_result"
    }
   ],
   "source": [
    "indices.head()"
   ]
  },
  {
   "cell_type": "markdown",
   "metadata": {},
   "source": [
    "### Step-4: Writing a function to get recommendations based on the similarity score "
   ]
  },
  {
   "cell_type": "code",
   "execution_count": 10,
   "metadata": {},
   "outputs": [],
   "source": [
    "def give_rec(title, sig=sig):\n",
    "\n",
    "    # Get the index corresponding to original_title\n",
    "    idx = indices[title]\n",
    "\n",
    "    # Get the pairwise similarity scores\n",
    "    sig_scores = list(enumerate(sig[idx]))\n",
    "\n",
    "    # Sort the movies\n",
    "    sig_scores = sorted(sig_scores, key=lambda x: x[1], reverse=True)\n",
    "\n",
    "    # Scores of the 10 most similar movies\n",
    "    sig_scores = sig_scores[1:11]\n",
    "\n",
    "    # Movie indices\n",
    "    movie_indices = [i[0] for i in sig_scores]\n",
    "\n",
    "    # Top 10 most similar movies\n",
    "    return df['Title'].iloc[movie_indices]"
   ]
  },
  {
   "cell_type": "code",
   "execution_count": 12,
   "metadata": {},
   "outputs": [
    {
     "data": {
      "text/plain": [
       "2        Avengers: Infinity War\n",
       "1528             Love Ni Bhavai\n",
       "306     Springsteen On Broadway\n",
       "1                    The Matrix\n",
       "1269     Eh Janam Tumhare Lekhe\n",
       "2388                     Kaakan\n",
       "1122                Punjab 1984\n",
       "9          Inglourious Basterds\n",
       "1534            Sillu Karupatti\n",
       "747           Khosla Ka Ghosla!\n",
       "Name: Title, dtype: object"
      ]
     },
     "execution_count": 12,
     "metadata": {},
     "output_type": "execute_result"
    }
   ],
   "source": [
    "# Execute get_rec() function for getting recommendation\n",
    "give_rec(\"Inception\", sig = sig)"
   ]
  },
  {
   "cell_type": "markdown",
   "metadata": {},
   "source": [
    "# __All-variables recommender__"
   ]
  },
  {
   "cell_type": "code",
   "execution_count": 14,
   "metadata": {},
   "outputs": [
    {
     "data": {
      "text/plain": [
       "Index(['ID', 'Title', 'Year', 'IMDb', 'Netflix', 'Hulu', 'Prime Video',\n",
       "       'Disney+', 'Type', 'Directors', 'Genres', 'Country', 'Language',\n",
       "       'Runtime'],\n",
       "      dtype='object')"
      ]
     },
     "execution_count": 14,
     "metadata": {},
     "output_type": "execute_result"
    }
   ],
   "source": [
    "df.columns"
   ]
  },
  {
   "cell_type": "markdown",
   "metadata": {},
   "source": [
    "### Step-1: Features preparation"
   ]
  },
  {
   "cell_type": "code",
   "execution_count": 15,
   "metadata": {},
   "outputs": [],
   "source": [
    "# This function performs all the important preprocessing steps\n",
    "def preprocess(df):\n",
    "    ##### combining all text columns\n",
    "    # Selecting all object data type and storing them in list\n",
    "    s = list(df.select_dtypes(include=['object']).columns)\n",
    "    \n",
    "    # Removing ID and Title column\n",
    "    s.remove(\"Title\")\n",
    "    s.remove(\"ID\")\n",
    "    \n",
    "    # Joining all text/object columns using commas into a single column\n",
    "    df['all_text']= df[s].apply(lambda x: ','.join(x.dropna().astype(str)),axis=1)\n",
    "\n",
    "    # Creating a tokenizer to remove unwanted elements from our data like symbols and numbers\n",
    "    token = RegexpTokenizer(r'[a-zA-Z]+')\n",
    "\n",
    "    # Converting TfidfVector from the text\n",
    "    cv = TfidfVectorizer(lowercase=True, \n",
    "                         stop_words='english',\n",
    "                         ngram_range = (1,1),\n",
    "                         tokenizer = token.tokenize)\n",
    "    text_counts = cv.fit_transform(df['all_text'])\n",
    "\n",
    "    \n",
    "    \n",
    "    ##### Selecting numerical variables\n",
    "    ndf = df.select_dtypes(include=['float64',\"int64\"])\n",
    "\n",
    "    # Scaling Numerical variables\n",
    "    scaler = preprocessing.MinMaxScaler(feature_range=(0, 1))\n",
    "\n",
    "    # Applying scaler on our data and converting it into a data frame\n",
    "    ndfmx = pd.DataFrame((scaler.fit_transform(ndf)))\n",
    "    ndfmx.columns = ndf.columns    \n",
    "\n",
    "    # Adding our numerical variables in the TF-IDF vector\n",
    "    IMDb = ndfmx.IMDb.values[:, None]\n",
    "    X_train_dtm = hstack((text_counts, IMDb))\n",
    "    \n",
    "    Netflix = ndfmx.Netflix.values[:, None]\n",
    "    X_train_dtm = hstack((X_train_dtm, Netflix))\n",
    "    \n",
    "    Hulu = ndfmx.Hulu.values[:, None]\n",
    "    X_train_dtm = hstack((X_train_dtm, Hulu))\n",
    "    \n",
    "    Prime = ndfmx[\"Prime Video\"].values[:, None]\n",
    "    X_train_dtm = hstack((X_train_dtm, Prime))\n",
    "    \n",
    "    Disney = ndfmx[\"Disney+\"].values[:, None]\n",
    "    X_train_dtm = hstack((X_train_dtm, Disney))\n",
    "    \n",
    "    Runtime = ndfmx.Runtime.values[:, None]\n",
    "    X_train_dtm = hstack((X_train_dtm, Runtime))\n",
    "    \n",
    "    \n",
    "    return X_train_dtm"
   ]
  },
  {
   "cell_type": "markdown",
   "metadata": {},
   "source": [
    "### Step-2: Applying the function to our data and creating a sparse matrix"
   ]
  },
  {
   "cell_type": "code",
   "execution_count": 16,
   "metadata": {},
   "outputs": [
    {
     "data": {
      "text/plain": [
       "(15233, 11997)"
      ]
     },
     "execution_count": 16,
     "metadata": {},
     "output_type": "execute_result"
    }
   ],
   "source": [
    "# Preprocessing data\n",
    "mat = preprocess(df)\n",
    "mat.shape"
   ]
  },
  {
   "cell_type": "markdown",
   "metadata": {},
   "source": [
    "### Step-3: Applying Cosine Similarity to compute the similarity score"
   ]
  },
  {
   "cell_type": "code",
   "execution_count": 17,
   "metadata": {},
   "outputs": [],
   "source": [
    "# using cosine similarity\n",
    "from sklearn.metrics.pairwise import cosine_similarity\n",
    "\n",
    "# Compute the sigmoid kernel\n",
    "sig2 = cosine_similarity(mat, mat)\n",
    "\n",
    "# Reverse mapping of indices and movie titles\n",
    "indices = pd.Series(df.index, index=df['Title']).drop_duplicates()"
   ]
  },
  {
   "cell_type": "markdown",
   "metadata": {},
   "source": [
    "### Step-4: Getting a recommendation from the improved system"
   ]
  },
  {
   "cell_type": "code",
   "execution_count": 19,
   "metadata": {},
   "outputs": [
    {
     "data": {
      "text/plain": [
       "922                   Get Santa\n",
       "132     Solo: A Star Wars Story\n",
       "517                   Studio 54\n",
       "3            Back to the Future\n",
       "976                    Godzilla\n",
       "404        Terminator Salvation\n",
       "25                   Ex Machina\n",
       "242     What Happened to Monday\n",
       "776    Resident Evil: Afterlife\n",
       "47                        Senna\n",
       "Name: Title, dtype: object"
      ]
     },
     "execution_count": 19,
     "metadata": {},
     "output_type": "execute_result"
    }
   ],
   "source": [
    "give_rec(\"Inception\", sig = sig2)"
   ]
  }
 ],
 "metadata": {
  "kernelspec": {
   "display_name": "Python [conda env:root] *",
   "language": "python",
   "name": "conda-root-py"
  },
  "language_info": {
   "codemirror_mode": {
    "name": "ipython",
    "version": 3
   },
   "file_extension": ".py",
   "mimetype": "text/x-python",
   "name": "python",
   "nbconvert_exporter": "python",
   "pygments_lexer": "ipython3",
   "version": "3.8.3"
  }
 },
 "nbformat": 4,
 "nbformat_minor": 4
}
